{
  "cells": [
    {
      "cell_type": "markdown",
      "metadata": {
        "id": "CqBPeEk7Tq9Q"
      },
      "source": [
        "# Training an Anomalous Jet Detector with **VAE** \n",
        "\n",
        "---\n",
        "In this notebook, we train an unsupervised algorithm capable of compressing a jet features into a low-dimension laten space and, from there, reconstruct the input data. This type of architecture is **autoencoder**:\n",
        "\n",
        "<img src=\"https://github.com/NoemiTagliavacche/ML_course_Pavia_23/blob/main/neural-networks/figures/ae.png?raw=1\" alt=\"Drawing\" style=\"width: 600px;\"/>\n",
        "\n",
        "The distance between the input and the output is used to identify rare jets. When trained on background QCD jets (quarks and gluons) it will learn to well reconstruct them yeilding a small reconstruction loss (mean squared error distance) whenever the trained model is evaluated on those. When the trained model sees a different \"anomalous\" jet it will yield a large loss. Applying a lower treshold on the loss, one can veto standard QCD jets and select a sample enriched in anomalous jets (W, Z, top, etc). \n",
        "\n",
        "We will use below a special autoencoder called **variational autoencoder**, which is an autoencoder whose training is regularised to avoid overfitting and ensure that the latent space has good properties that enable generative process. Instead of encoding the inputs as a single point, we encode it as a multi-dimensional gaussian distribution over the latent space:\n",
        "\n",
        "<img src=\"https://github.com/NoemiTagliavacche/ML_course_Pavia_23/blob/main/neural-networks/figures/vae.png?raw=1\" alt=\"Drawing\" style=\"width: 600px;\"/>\n",
        "\n",
        "The loss is now the sum of two terms:\n",
        "\n",
        "- the *MSE loss* that makes the encoding-decoding reconstruction scheme as performant as possible\n",
        "- the *Kullback-Leibler (KL) loss* which represents the distance between gaussian pdfs and acts as a regularization term on the latent space\n",
        "\n",
        "---"
      ]
    },
    {
      "cell_type": "code",
      "execution_count": 1,
      "metadata": {
        "id": "ejclTRAuTq9S"
      },
      "outputs": [],
      "source": [
        "import os\n",
        "import h5py\n",
        "import glob\n",
        "import numpy as np\n",
        "import matplotlib.pyplot as plt\n",
        "%matplotlib inline"
      ]
    },
    {
      "cell_type": "markdown",
      "metadata": {
        "id": "Li33S_GQTq9S"
      },
      "source": [
        "# Preparation of the training and validation samples\n",
        "\n",
        "---\n",
        "In order to import the dataset, we now\n",
        "- clone the dataset repository (to import the data in Colab)\n",
        "- load the h5 files in the data/ repository\n",
        "- extract the data we need: a target and jetImage \n",
        "\n",
        "To type shell commands, we start the command line with !\n",
        "\n",
        "**nb, if you are running locally and you have already downloaded the datasets you can skip the cell below and, if needed, change the paths later to point to the folder with your previous download of the datasets.**"
      ]
    },
    {
      "cell_type": "code",
      "execution_count": 2,
      "metadata": {
        "id": "-ZmlSYigTq9S",
        "outputId": "b09dce46-4f6e-4bc3-b3d2-0100259af2e3",
        "colab": {
          "base_uri": "https://localhost:8080/"
        }
      },
      "outputs": [
        {
          "output_type": "stream",
          "name": "stdout",
          "text": [
            "  % Total    % Received % Xferd  Average Speed   Time    Time     Time  Current\n",
            "                                 Dload  Upload   Total   Spent    Left  Speed\n",
            "100  333M    0  333M    0     0  18.7M      0 --:--:--  0:00:17 --:--:-- 22.9M\n",
            "Data-MLtutorial/\n",
            "Data-MLtutorial/JetDataset/\n",
            "Data-MLtutorial/JetDataset/jetImage_7_100p_0_10000.h5\n",
            "Data-MLtutorial/JetDataset/jetImage_7_100p_10000_20000.h5\n",
            "Data-MLtutorial/JetDataset/jetImage_7_100p_30000_40000.h5\n",
            "Data-MLtutorial/JetDataset/jetImage_7_100p_40000_50000.h5\n",
            "Data-MLtutorial/JetDataset/jetImage_7_100p_50000_60000.h5\n",
            "Data-MLtutorial/JetDataset/jetImage_7_100p_60000_70000.h5\n",
            "Data-MLtutorial/JetDataset/jetImage_7_100p_70000_80000.h5\n",
            "Data-MLtutorial/JetDataset/jetImage_7_100p_80000_90000.h5\n",
            "jetImage_7_100p_0_10000.h5\tjetImage_7_100p_50000_60000.h5\n",
            "jetImage_7_100p_10000_20000.h5\tjetImage_7_100p_60000_70000.h5\n",
            "jetImage_7_100p_30000_40000.h5\tjetImage_7_100p_70000_80000.h5\n",
            "jetImage_7_100p_40000_50000.h5\tjetImage_7_100p_80000_90000.h5\n"
          ]
        }
      ],
      "source": [
        "! curl https://cernbox.cern.ch/s/6Ec5pGFEpFWeH6S/download -o Data-MLtutorial.tar.gz\n",
        "! tar -xvzf Data-MLtutorial.tar.gz \n",
        "! ls Data-MLtutorial/JetDataset/\n",
        "! rm Data-MLtutorial.tar.gz "
      ]
    },
    {
      "cell_type": "code",
      "execution_count": 3,
      "metadata": {
        "id": "GNcHUuq6Tq9T",
        "outputId": "68892216-f5d5-44bb-c4bf-1494e806bee9",
        "colab": {
          "base_uri": "https://localhost:8080/"
        }
      },
      "outputs": [
        {
          "output_type": "stream",
          "name": "stdout",
          "text": [
            "Appending Data-MLtutorial/JetDataset/jetImage_7_100p_30000_40000.h5\n",
            "Appending Data-MLtutorial/JetDataset/jetImage_7_100p_60000_70000.h5\n",
            "Appending Data-MLtutorial/JetDataset/jetImage_7_100p_50000_60000.h5\n",
            "Appending Data-MLtutorial/JetDataset/jetImage_7_100p_10000_20000.h5\n",
            "Appending Data-MLtutorial/JetDataset/jetImage_7_100p_0_10000.h5\n",
            "(50000, 5) (50000, 16)\n"
          ]
        }
      ],
      "source": [
        "target = np.array([])\n",
        "features = np.array([])\n",
        "# we cannot load all data on Colab. So we just take a few files\n",
        "datafiles = ['Data-MLtutorial/JetDataset/jetImage_7_100p_30000_40000.h5',\n",
        "             'Data-MLtutorial/JetDataset/jetImage_7_100p_60000_70000.h5',\n",
        "             'Data-MLtutorial/JetDataset/jetImage_7_100p_50000_60000.h5',\n",
        "             'Data-MLtutorial/JetDataset/jetImage_7_100p_10000_20000.h5',\n",
        "             'Data-MLtutorial/JetDataset/jetImage_7_100p_0_10000.h5']\n",
        "# if you are running locallt, you can use the full dataset doing\n",
        "# for fileIN in glob.glob(\"tutorials/HiggsSchool/data/*h5\"):\n",
        "for fileIN in datafiles:\n",
        "    print(\"Appending %s\" %fileIN)\n",
        "    f = h5py.File(fileIN)\n",
        "    myFeatures = np.array(f.get(\"jets\")[:,[12, 34, 35, 36, 37, 38, 39, 40, 41, 42, 43, 44, 45, 46, 48, 52]], dtype=np.float32)\n",
        "    mytarget = np.array(f.get('jets')[0:,-6:-1])\n",
        "    features = np.concatenate([features, myFeatures], axis=0) if features.size else myFeatures\n",
        "    target = np.concatenate([target, mytarget], axis=0) if target.size else mytarget\n",
        "    f.close()\n",
        "print(target.shape, features.shape)"
      ]
    },
    {
      "cell_type": "code",
      "execution_count": 4,
      "metadata": {
        "id": "aVjBtBq_Tq9T",
        "outputId": "0c6ed216-a6a8-41b8-dfdd-904e329e0fa2",
        "colab": {
          "base_uri": "https://localhost:8080/"
        }
      },
      "outputs": [
        {
          "output_type": "stream",
          "name": "stdout",
          "text": [
            "0.089908905 0.001333433\n",
            "3.7002563e-09 1.0000001\n"
          ]
        }
      ],
      "source": [
        "# we standardize the data, so that the mean is = 0 and rms = 1 \n",
        "from sklearn.preprocessing import StandardScaler\n",
        "print(np.mean(features[:,10]), np.var(features[:,10]))\n",
        "scaler = StandardScaler()\n",
        "scaler.fit(features)\n",
        "features = scaler.transform(features)\n",
        "print(np.mean(features[:,10]), np.var(features[:,10]))"
      ]
    },
    {
      "cell_type": "markdown",
      "metadata": {
        "id": "2Hsncb1aTq9T"
      },
      "source": [
        "We now separate the dataset in 4:\n",
        "- a training dataset, consisting of quarks and gluons\n",
        "- three 'anomalous jets' samples: W, Z, and top"
      ]
    },
    {
      "cell_type": "code",
      "execution_count": 5,
      "metadata": {
        "id": "cDZp9PocTq9T",
        "outputId": "1f58ea93-c78e-415c-b159-572509490146",
        "colab": {
          "base_uri": "https://localhost:8080/"
        }
      },
      "outputs": [
        {
          "output_type": "stream",
          "name": "stdout",
          "text": [
            "(19908, 16) (10015, 16) (10037, 16) (10040, 16)\n"
          ]
        }
      ],
      "source": [
        "features_standard = features[np.argmax(target,axis=1)<2]\n",
        "features_W = features[np.argmax(target,axis=1)==2]\n",
        "features_Z = features[np.argmax(target,axis=1)==3]\n",
        "features_t = features[np.argmax(target,axis=1)==4]\n",
        "print(features_standard.shape, features_W.shape, features_Z.shape, features_t.shape)"
      ]
    },
    {
      "cell_type": "markdown",
      "metadata": {
        "id": "dmzkgq9qTq9T"
      },
      "source": [
        "Notice that this is an unsupervised algorithm, so we don't need the target array anymore.\n",
        "Nevertheless, we keep a part of it around, since it might be useful to test the response \n",
        "of the algorithm to quarks and gluons separetly"
      ]
    },
    {
      "cell_type": "code",
      "execution_count": 6,
      "metadata": {
        "id": "QqS8tF2LTq9U",
        "outputId": "159236cb-135f-4b82-8e34-6eecfc2c2038",
        "colab": {
          "base_uri": "https://localhost:8080/"
        }
      },
      "outputs": [
        {
          "output_type": "stream",
          "name": "stdout",
          "text": [
            "[[1. 0. 0. 0. 0.]\n",
            " [1. 0. 0. 0. 0.]\n",
            " [1. 0. 0. 0. 0.]\n",
            " ...\n",
            " [1. 0. 0. 0. 0.]\n",
            " [1. 0. 0. 0. 0.]\n",
            " [0. 1. 0. 0. 0.]]\n"
          ]
        }
      ],
      "source": [
        "label_standard = target[np.argmax(target,axis=1)<2]\n",
        "print(label_standard)"
      ]
    },
    {
      "cell_type": "markdown",
      "metadata": {
        "id": "pQaGzj-iTq9U"
      },
      "source": [
        "We now shuffle the standard-jet data and its labels, splitting them into a training, a validation+test dataset with 2:1:1 ratio. \n",
        "\n",
        "Then we separate the validation+test in two halves (training and validation)"
      ]
    },
    {
      "cell_type": "code",
      "execution_count": 7,
      "metadata": {
        "id": "z9X9sxzUTq9U",
        "outputId": "2ca2136e-40f0-4dbd-daa9-f9e03477f1e7",
        "colab": {
          "base_uri": "https://localhost:8080/"
        }
      },
      "outputs": [
        {
          "output_type": "stream",
          "name": "stdout",
          "text": [
            "(15926, 16) (15926, 5) (3982, 16) (3982, 5)\n",
            "(12740, 16) (12740, 5) (3186, 16) (3186, 5) (3982, 16) (3982, 5)\n"
          ]
        }
      ],
      "source": [
        "from sklearn.model_selection import train_test_split\n",
        "\n",
        "#split into training and test\n",
        "X_learn, X_test, label_learn, label_test = train_test_split(features_standard, label_standard, test_size=0.2)\n",
        "print(X_learn.shape, label_learn.shape, X_test.shape, label_test.shape)\n",
        "\n",
        "#split the training dataset into training and validation\n",
        "X_train, X_val, label_train, label_val = train_test_split(X_learn, label_learn, test_size=0.2)\n",
        "print(X_train.shape, label_train.shape, X_val.shape,  label_val.shape, X_test.shape, label_test.shape)\n",
        "\n",
        "del features_standard, label_standard, features, target, X_learn, label_learn"
      ]
    },
    {
      "cell_type": "markdown",
      "metadata": {
        "id": "Mt7HAhXSTq9U"
      },
      "source": [
        "# Building the VAE model"
      ]
    },
    {
      "cell_type": "code",
      "execution_count": 8,
      "metadata": {
        "id": "r9CqFQCSTq9U"
      },
      "outputs": [],
      "source": [
        "# keras imports\n",
        "from tensorflow.keras.models import Model\n",
        "from tensorflow.keras.layers import Dense, Input, Lambda, Layer\n",
        "from tensorflow.keras.layers import BatchNormalization, Activation\n",
        "from tensorflow.keras.utils import plot_model\n",
        "from tensorflow.keras.optimizers import Adam\n",
        "from tensorflow.keras import backend as K\n",
        "from tensorflow.keras import metrics\n",
        "from tensorflow.keras.callbacks import EarlyStopping, ReduceLROnPlateau, TerminateOnNaN"
      ]
    },
    {
      "cell_type": "code",
      "execution_count": 9,
      "metadata": {
        "id": "fy_ljLyOTq9U"
      },
      "outputs": [],
      "source": [
        "def sample_z(args):\n",
        "    z_mean, z_log_var = args\n",
        "    batch = K.shape(z_mean)[0]\n",
        "    dim = K.int_shape(z_mean)[1]\n",
        "    eps = K.random_normal(shape=(batch, dim))\n",
        "    return z_mean + K.exp(z_log_var / 2) * eps"
      ]
    },
    {
      "cell_type": "markdown",
      "metadata": {
        "id": "llm44fo8Tq9U"
      },
      "source": [
        "Loss definition: The first block of code is just the reconstruction error which is given by the MSE. The second block of code calculates the KL-divergence analytically and adds it to the loss function with the line self.add_loss. It represents the KL-divergence as just another layer in the neural network with the inputs equal to the outputs (means and variances in latent space)"
      ]
    },
    {
      "cell_type": "code",
      "execution_count": 10,
      "metadata": {
        "id": "k_fFl4CKTq9V"
      },
      "outputs": [],
      "source": [
        "from tensorflow.keras import backend as K\n",
        "\n",
        "# Define loss\n",
        "def myloss(y_true, y_pred):\n",
        "    # mse\n",
        "    sum_sq = (y_true-y_pred)*(y_true-y_pred)\n",
        "    return K.sum(sum_sq, axis=-1)\n",
        "\n",
        "class KLDivergenceLayer(Layer):\n",
        "\n",
        "    \"\"\" Identity transform layer that adds KL divergence\n",
        "    to the final model loss.\n",
        "    \"\"\"\n",
        "\n",
        "    def __init__(self, *args, **kwargs):\n",
        "        self.is_placeholder = True\n",
        "        super(KLDivergenceLayer, self).__init__(*args, **kwargs)\n",
        "\n",
        "    def call(self, inputs):\n",
        "        mu, log_var = inputs\n",
        "        kl_batch = - .5 * K.sum(1 + log_var -\n",
        "                                K.square(mu) -\n",
        "                                K.exp(log_var), axis=-1)\n",
        "        self.add_loss(K.mean(kl_batch), inputs=inputs)\n",
        "        return inputs"
      ]
    },
    {
      "cell_type": "code",
      "execution_count": 12,
      "metadata": {
        "id": "tCebxIVoTq9V"
      },
      "outputs": [],
      "source": [
        "def vae(input_dim, latent_dim, beta): #variational auto encoder\n",
        "    #encoder\n",
        "    input_encoder = Input(shape=(input_dim), name='encoder_input')\n",
        "    x = Dense(10, activation='elu')(input_encoder) #two dense layers, one for the mean, the other for the variance\n",
        "    z_mu = Dense(latent_dim, name='latent_mu')(x)\n",
        "    z_log_var = Dense(latent_dim, name='latent_logvar')(x)\n",
        "    z_mu, z_log_var = KLDivergenceLayer()([z_mu, z_log_var])\n",
        "    \n",
        "    z = Lambda(sample_z, output_shape=(latent_dim, ), name='z')([z_mu, z_log_var]) #custom function which needs to sample \n",
        "    encoder = Model(inputs=input_encoder, outputs=[z_mu, z_log_var, z], name='encoder')\n",
        "    encoder.summary()\n",
        "    \n",
        "    #decoder\n",
        "    input_decoder = Input(shape=(latent_dim,), name='decoder_input')\n",
        "    x = Dense(10, activation='elu')(input_decoder)     #mirrors the encoder\n",
        "    dec = Dense(input_dim, activation='linear')(x)    \n",
        "    decoder = Model(inputs=input_decoder, outputs=dec, name='decoder')\n",
        "    decoder.summary()\n",
        " \n",
        "    #vae\n",
        "    vae_outputs = decoder(encoder(input_encoder)[2])\n",
        "    vae = Model(input_encoder, vae_outputs, name='vae')\n",
        "    vae.summary()\n",
        "    \n",
        "    return vae, encoder"
      ]
    },
    {
      "cell_type": "code",
      "execution_count": 13,
      "metadata": {
        "id": "mV46LBPyTq9V",
        "outputId": "a3caf80d-191b-4574-8d97-e7c425ff71b6",
        "colab": {
          "base_uri": "https://localhost:8080/"
        }
      },
      "outputs": [
        {
          "output_type": "stream",
          "name": "stdout",
          "text": [
            "Model: \"encoder\"\n",
            "__________________________________________________________________________________________________\n",
            " Layer (type)                   Output Shape         Param #     Connected to                     \n",
            "==================================================================================================\n",
            " encoder_input (InputLayer)     [(None, 16)]         0           []                               \n",
            "                                                                                                  \n",
            " dense (Dense)                  (None, 10)           170         ['encoder_input[0][0]']          \n",
            "                                                                                                  \n",
            " latent_mu (Dense)              (None, 5)            55          ['dense[0][0]']                  \n",
            "                                                                                                  \n",
            " latent_logvar (Dense)          (None, 5)            55          ['dense[0][0]']                  \n",
            "                                                                                                  \n",
            " kl_divergence_layer (KLDiverge  [(None, 5),         0           ['latent_mu[0][0]',              \n",
            " nceLayer)                       (None, 5)]                       'latent_logvar[0][0]']          \n",
            "                                                                                                  \n",
            " z (Lambda)                     (None, 5)            0           ['kl_divergence_layer[0][0]',    \n",
            "                                                                  'kl_divergence_layer[0][1]']    \n",
            "                                                                                                  \n",
            "==================================================================================================\n",
            "Total params: 280\n",
            "Trainable params: 280\n",
            "Non-trainable params: 0\n",
            "__________________________________________________________________________________________________\n",
            "Model: \"decoder\"\n",
            "_________________________________________________________________\n",
            " Layer (type)                Output Shape              Param #   \n",
            "=================================================================\n",
            " decoder_input (InputLayer)  [(None, 5)]               0         \n",
            "                                                                 \n",
            " dense_1 (Dense)             (None, 10)                60        \n",
            "                                                                 \n",
            " dense_2 (Dense)             (None, 16)                176       \n",
            "                                                                 \n",
            "=================================================================\n",
            "Total params: 236\n",
            "Trainable params: 236\n",
            "Non-trainable params: 0\n",
            "_________________________________________________________________\n",
            "Model: \"vae\"\n",
            "_________________________________________________________________\n",
            " Layer (type)                Output Shape              Param #   \n",
            "=================================================================\n",
            " encoder_input (InputLayer)  [(None, 16)]              0         \n",
            "                                                                 \n",
            " encoder (Functional)        [(None, 5),               280       \n",
            "                              (None, 5),                         \n",
            "                              (None, 5)]                         \n",
            "                                                                 \n",
            " decoder (Functional)        (None, 16)                236       \n",
            "                                                                 \n",
            "=================================================================\n",
            "Total params: 516\n",
            "Trainable params: 516\n",
            "Non-trainable params: 0\n",
            "_________________________________________________________________\n"
          ]
        }
      ],
      "source": [
        "model, encoder = vae(16, 5, 1.0)"
      ]
    },
    {
      "cell_type": "code",
      "execution_count": 14,
      "metadata": {
        "id": "Qwmtvhl-Tq9V"
      },
      "outputs": [],
      "source": [
        "model.compile(optimizer='adam', loss=myloss)"
      ]
    },
    {
      "cell_type": "code",
      "execution_count": 15,
      "metadata": {
        "id": "TvRYB8n7Tq9V",
        "outputId": "d7a0d30f-caf7-402d-86be-44d41da51ff1",
        "colab": {
          "base_uri": "https://localhost:8080/"
        }
      },
      "outputs": [
        {
          "output_type": "stream",
          "name": "stdout",
          "text": [
            "Epoch 1/200\n",
            "100/100 - 2s - loss: 19.6047 - val_loss: 15.0990 - lr: 0.0010 - 2s/epoch - 20ms/step\n",
            "Epoch 2/200\n",
            "100/100 - 0s - loss: 13.1397 - val_loss: 11.2398 - lr: 0.0010 - 241ms/epoch - 2ms/step\n",
            "Epoch 3/200\n",
            "100/100 - 0s - loss: 10.1967 - val_loss: 9.2262 - lr: 0.0010 - 266ms/epoch - 3ms/step\n",
            "Epoch 4/200\n",
            "100/100 - 0s - loss: 8.8355 - val_loss: 8.2180 - lr: 0.0010 - 286ms/epoch - 3ms/step\n",
            "Epoch 5/200\n",
            "100/100 - 0s - loss: 8.0416 - val_loss: 7.6584 - lr: 0.0010 - 276ms/epoch - 3ms/step\n",
            "Epoch 6/200\n",
            "100/100 - 0s - loss: 7.5373 - val_loss: 7.2445 - lr: 0.0010 - 273ms/epoch - 3ms/step\n",
            "Epoch 7/200\n",
            "100/100 - 0s - loss: 7.1982 - val_loss: 6.9682 - lr: 0.0010 - 406ms/epoch - 4ms/step\n",
            "Epoch 8/200\n",
            "100/100 - 0s - loss: 6.9309 - val_loss: 6.7766 - lr: 0.0010 - 382ms/epoch - 4ms/step\n",
            "Epoch 9/200\n",
            "100/100 - 0s - loss: 6.7975 - val_loss: 6.5746 - lr: 0.0010 - 363ms/epoch - 4ms/step\n",
            "Epoch 10/200\n",
            "100/100 - 0s - loss: 6.6087 - val_loss: 6.4554 - lr: 0.0010 - 339ms/epoch - 3ms/step\n",
            "Epoch 11/200\n",
            "100/100 - 0s - loss: 6.4660 - val_loss: 6.3392 - lr: 0.0010 - 346ms/epoch - 3ms/step\n",
            "Epoch 12/200\n",
            "100/100 - 0s - loss: 6.3768 - val_loss: 6.2046 - lr: 0.0010 - 382ms/epoch - 4ms/step\n",
            "Epoch 13/200\n",
            "100/100 - 0s - loss: 6.2878 - val_loss: 6.1717 - lr: 0.0010 - 369ms/epoch - 4ms/step\n",
            "Epoch 14/200\n",
            "100/100 - 0s - loss: 6.1888 - val_loss: 6.0598 - lr: 0.0010 - 243ms/epoch - 2ms/step\n",
            "Epoch 15/200\n",
            "100/100 - 0s - loss: 6.1418 - val_loss: 6.0153 - lr: 0.0010 - 261ms/epoch - 3ms/step\n",
            "Epoch 16/200\n",
            "100/100 - 0s - loss: 6.0707 - val_loss: 5.9174 - lr: 0.0010 - 268ms/epoch - 3ms/step\n",
            "Epoch 17/200\n",
            "100/100 - 0s - loss: 5.9744 - val_loss: 5.8839 - lr: 0.0010 - 235ms/epoch - 2ms/step\n",
            "Epoch 18/200\n",
            "100/100 - 0s - loss: 5.9453 - val_loss: 5.8224 - lr: 0.0010 - 222ms/epoch - 2ms/step\n",
            "Epoch 19/200\n",
            "100/100 - 0s - loss: 5.9010 - val_loss: 5.7922 - lr: 0.0010 - 225ms/epoch - 2ms/step\n",
            "Epoch 20/200\n",
            "100/100 - 0s - loss: 5.8503 - val_loss: 5.7065 - lr: 0.0010 - 281ms/epoch - 3ms/step\n",
            "Epoch 21/200\n",
            "100/100 - 0s - loss: 5.8081 - val_loss: 5.6953 - lr: 0.0010 - 262ms/epoch - 3ms/step\n",
            "Epoch 22/200\n",
            "100/100 - 0s - loss: 5.7903 - val_loss: 5.7000 - lr: 0.0010 - 282ms/epoch - 3ms/step\n",
            "Epoch 23/200\n",
            "100/100 - 0s - loss: 5.7563 - val_loss: 5.5870 - lr: 0.0010 - 266ms/epoch - 3ms/step\n",
            "Epoch 24/200\n",
            "100/100 - 0s - loss: 5.7366 - val_loss: 5.6277 - lr: 0.0010 - 272ms/epoch - 3ms/step\n",
            "Epoch 25/200\n",
            "100/100 - 0s - loss: 5.7029 - val_loss: 5.5803 - lr: 0.0010 - 248ms/epoch - 2ms/step\n",
            "Epoch 26/200\n",
            "100/100 - 0s - loss: 5.6689 - val_loss: 5.5995 - lr: 0.0010 - 232ms/epoch - 2ms/step\n",
            "Epoch 27/200\n",
            "100/100 - 0s - loss: 5.6331 - val_loss: 5.5539 - lr: 0.0010 - 255ms/epoch - 3ms/step\n",
            "Epoch 28/200\n",
            "100/100 - 0s - loss: 5.6383 - val_loss: 5.5094 - lr: 0.0010 - 240ms/epoch - 2ms/step\n",
            "Epoch 29/200\n",
            "100/100 - 0s - loss: 5.6005 - val_loss: 5.5050 - lr: 0.0010 - 276ms/epoch - 3ms/step\n",
            "Epoch 30/200\n",
            "100/100 - 0s - loss: 5.6024 - val_loss: 5.5269 - lr: 0.0010 - 271ms/epoch - 3ms/step\n",
            "Epoch 31/200\n",
            "100/100 - 0s - loss: 5.5996 - val_loss: 5.4911 - lr: 0.0010 - 241ms/epoch - 2ms/step\n",
            "Epoch 32/200\n",
            "100/100 - 0s - loss: 5.5688 - val_loss: 5.4900 - lr: 0.0010 - 280ms/epoch - 3ms/step\n",
            "Epoch 33/200\n",
            "100/100 - 0s - loss: 5.5685 - val_loss: 5.4727 - lr: 0.0010 - 267ms/epoch - 3ms/step\n",
            "Epoch 34/200\n",
            "100/100 - 0s - loss: 5.5512 - val_loss: 5.4599 - lr: 0.0010 - 278ms/epoch - 3ms/step\n",
            "Epoch 35/200\n",
            "100/100 - 0s - loss: 5.5412 - val_loss: 5.4666 - lr: 0.0010 - 254ms/epoch - 3ms/step\n",
            "Epoch 36/200\n",
            "100/100 - 0s - loss: 5.5301 - val_loss: 5.4522 - lr: 0.0010 - 227ms/epoch - 2ms/step\n",
            "Epoch 37/200\n",
            "100/100 - 0s - loss: 5.5404 - val_loss: 5.4585 - lr: 0.0010 - 249ms/epoch - 2ms/step\n",
            "Epoch 38/200\n",
            "\n",
            "Epoch 38: ReduceLROnPlateau reducing learning rate to 0.00010000000474974513.\n",
            "100/100 - 0s - loss: 5.5171 - val_loss: 5.4995 - lr: 0.0010 - 234ms/epoch - 2ms/step\n",
            "Epoch 39/200\n",
            "100/100 - 0s - loss: 5.5189 - val_loss: 5.4049 - lr: 1.0000e-04 - 280ms/epoch - 3ms/step\n",
            "Epoch 40/200\n",
            "100/100 - 0s - loss: 5.5041 - val_loss: 5.4040 - lr: 1.0000e-04 - 248ms/epoch - 2ms/step\n",
            "Epoch 41/200\n",
            "100/100 - 0s - loss: 5.5121 - val_loss: 5.4084 - lr: 1.0000e-04 - 286ms/epoch - 3ms/step\n",
            "Epoch 42/200\n",
            "\n",
            "Epoch 42: ReduceLROnPlateau reducing learning rate to 1.0000000474974514e-05.\n",
            "100/100 - 0s - loss: 5.5076 - val_loss: 5.4114 - lr: 1.0000e-04 - 230ms/epoch - 2ms/step\n",
            "Epoch 43/200\n",
            "100/100 - 0s - loss: 5.4913 - val_loss: 5.4382 - lr: 1.0000e-05 - 262ms/epoch - 3ms/step\n",
            "Epoch 44/200\n",
            "\n",
            "Epoch 44: ReduceLROnPlateau reducing learning rate to 1.0000000656873453e-06.\n",
            "100/100 - 0s - loss: 5.4901 - val_loss: 5.4198 - lr: 1.0000e-05 - 253ms/epoch - 3ms/step\n",
            "Epoch 45/200\n",
            "100/100 - 0s - loss: 5.4991 - val_loss: 5.4046 - lr: 1.0000e-06 - 236ms/epoch - 2ms/step\n",
            "Epoch 46/200\n",
            "\n",
            "Epoch 46: ReduceLROnPlateau reducing learning rate to 1.0000001111620805e-07.\n",
            "100/100 - 0s - loss: 5.5075 - val_loss: 5.4273 - lr: 1.0000e-06 - 281ms/epoch - 3ms/step\n",
            "Epoch 47/200\n",
            "100/100 - 0s - loss: 5.4904 - val_loss: 5.4125 - lr: 1.0000e-07 - 276ms/epoch - 3ms/step\n",
            "Epoch 48/200\n",
            "100/100 - 0s - loss: 5.4916 - val_loss: 5.3914 - lr: 1.0000e-07 - 267ms/epoch - 3ms/step\n",
            "Epoch 49/200\n",
            "100/100 - 0s - loss: 5.4847 - val_loss: 5.4169 - lr: 1.0000e-07 - 288ms/epoch - 3ms/step\n",
            "Epoch 50/200\n",
            "\n",
            "Epoch 50: ReduceLROnPlateau reducing learning rate to 1.000000082740371e-08.\n",
            "100/100 - 0s - loss: 5.4842 - val_loss: 5.4017 - lr: 1.0000e-07 - 363ms/epoch - 4ms/step\n",
            "Epoch 51/200\n",
            "100/100 - 0s - loss: 5.4909 - val_loss: 5.4554 - lr: 1.0000e-08 - 488ms/epoch - 5ms/step\n",
            "Epoch 52/200\n",
            "\n",
            "Epoch 52: ReduceLROnPlateau reducing learning rate to 1.000000082740371e-09.\n",
            "100/100 - 0s - loss: 5.5141 - val_loss: 5.4049 - lr: 1.0000e-08 - 428ms/epoch - 4ms/step\n",
            "Epoch 53/200\n",
            "100/100 - 1s - loss: 5.4898 - val_loss: 5.4044 - lr: 1.0000e-09 - 542ms/epoch - 5ms/step\n",
            "Epoch 54/200\n",
            "\n",
            "Epoch 54: ReduceLROnPlateau reducing learning rate to 1.000000082740371e-10.\n",
            "100/100 - 1s - loss: 5.4875 - val_loss: 5.4322 - lr: 1.0000e-09 - 901ms/epoch - 9ms/step\n",
            "Epoch 55/200\n",
            "100/100 - 1s - loss: 5.4957 - val_loss: 5.4426 - lr: 1.0000e-10 - 844ms/epoch - 8ms/step\n",
            "Epoch 56/200\n",
            "\n",
            "Epoch 56: ReduceLROnPlateau reducing learning rate to 1.000000082740371e-11.\n",
            "100/100 - 1s - loss: 5.4929 - val_loss: 5.4107 - lr: 1.0000e-10 - 561ms/epoch - 6ms/step\n",
            "Epoch 57/200\n",
            "100/100 - 1s - loss: 5.4956 - val_loss: 5.4293 - lr: 1.0000e-11 - 616ms/epoch - 6ms/step\n",
            "Epoch 58/200\n",
            "\n",
            "Epoch 58: ReduceLROnPlateau reducing learning rate to 1.000000082740371e-12.\n",
            "100/100 - 0s - loss: 5.4811 - val_loss: 5.4305 - lr: 1.0000e-11 - 482ms/epoch - 5ms/step\n",
            "Epoch 58: early stopping\n"
          ]
        }
      ],
      "source": [
        "n_epochs = 200\n",
        "batch_size = 128\n",
        "# train \n",
        "history = model.fit(X_train, X_train, epochs=n_epochs, batch_size=batch_size, verbose = 2,\n",
        "                validation_data=(X_val, X_val),\n",
        "                callbacks = [\n",
        "                EarlyStopping(monitor='val_loss', patience=10, verbose=1),\n",
        "                ReduceLROnPlateau(monitor='val_loss', factor=0.1, patience=2, verbose=1),\n",
        "                TerminateOnNaN()])"
      ]
    },
    {
      "cell_type": "code",
      "execution_count": 16,
      "metadata": {
        "id": "EyEt5I0-Tq9V",
        "outputId": "1991f173-7a75-466b-b67f-57a439a98f9f",
        "colab": {
          "base_uri": "https://localhost:8080/",
          "height": 472
        }
      },
      "outputs": [
        {
          "output_type": "display_data",
          "data": {
            "text/plain": [
              "<Figure size 640x480 with 1 Axes>"
            ],
            "image/png": "[encoded data removed]"
          },
          "metadata": {}
        }
      ],
      "source": [
        "# plot training history\n",
        "plt.plot(history.history['loss'])\n",
        "plt.plot(history.history['val_loss'])\n",
        "plt.yscale('log')\n",
        "plt.title('Training History')\n",
        "plt.ylabel('loss')\n",
        "plt.xlabel('epoch')\n",
        "plt.legend(['training', 'validation'], loc='upper right')\n",
        "plt.show()"
      ]
    },
    {
      "cell_type": "markdown",
      "metadata": {
        "id": "MfXw7AfLTq9V"
      },
      "source": [
        "# Loss Distributions"
      ]
    },
    {
      "cell_type": "code",
      "execution_count": 17,
      "metadata": {
        "id": "C4A-vaTDTq9W"
      },
      "outputs": [],
      "source": [
        "labels = ['W', 'Z', 'top']"
      ]
    },
    {
      "cell_type": "code",
      "execution_count": 18,
      "metadata": {
        "id": "ofrGygBCTq9W",
        "outputId": "004b5a29-c320-49c7-e431-2a13814df565",
        "colab": {
          "base_uri": "https://localhost:8080/"
        }
      },
      "outputs": [
        {
          "output_type": "stream",
          "name": "stdout",
          "text": [
            "125/125 [==============================] - 1s 4ms/step\n",
            "313/313 [==============================] - 1s 3ms/step\n",
            "314/314 [==============================] - 1s 4ms/step\n",
            "314/314 [==============================] - 1s 4ms/step\n"
          ]
        }
      ],
      "source": [
        "anomaly = [features_W, features_Z, features_t]\n",
        "predictedQCD = model.predict(X_test)\n",
        "predicted_anomaly = []\n",
        "for i in range(len(labels)):\n",
        "    predicted_anomaly.append(model.predict(anomaly[i]))"
      ]
    },
    {
      "cell_type": "code",
      "execution_count": 19,
      "metadata": {
        "id": "ewU__3KpTq9W"
      },
      "outputs": [],
      "source": [
        "def mse(data_in, data_out):\n",
        "    mse = (data_out-data_in)*(data_out-data_in)\n",
        "    # sum over features\n",
        "    mse = mse.sum(-1)\n",
        "    return mse    "
      ]
    },
    {
      "cell_type": "code",
      "execution_count": 20,
      "metadata": {
        "id": "Bo2UC5xUTq9W"
      },
      "outputs": [],
      "source": [
        "lossQCD = mse(X_test, predictedQCD)\n",
        "loss_anomaly = []\n",
        "for i in range(len(labels)):\n",
        "    loss_anomaly.append(mse(anomaly[i], predicted_anomaly[i]))"
      ]
    },
    {
      "cell_type": "code",
      "execution_count": 21,
      "metadata": {
        "id": "rsuWfj-jTq9W",
        "outputId": "e6bdb7e8-3b3b-45d7-d804-7fa802ffb04b",
        "colab": {
          "base_uri": "https://localhost:8080/",
          "height": 449
        }
      },
      "outputs": [
        {
          "output_type": "display_data",
          "data": {
            "text/plain": [
              "<Figure size 640x480 with 1 Axes>"
            ],
            "image/png": "[encoded data removed]"
          },
          "metadata": {}
        }
      ],
      "source": [
        "maxScore = np.max(lossQCD)\n",
        "# plot QCD\n",
        "plt.figure()\n",
        "plt.hist(lossQCD, bins=100, label='QCD', density=True, range=(0, maxScore), \n",
        "         histtype='step', fill=False, linewidth=1.5)\n",
        "plt.semilogy()\n",
        "plt.xlabel(\"AE Loss\")\n",
        "plt.ylabel(\"Probability (a.u.)\")\n",
        "plt.grid(True)\n",
        "plt.legend(loc='upper right')\n",
        "plt.show()"
      ]
    },
    {
      "cell_type": "code",
      "execution_count": 22,
      "metadata": {
        "id": "nsi8x5r-Tq9W",
        "outputId": "38e846e3-cf93-4df6-82b3-cb994291327e",
        "colab": {
          "base_uri": "https://localhost:8080/",
          "height": 449
        }
      },
      "outputs": [
        {
          "output_type": "display_data",
          "data": {
            "text/plain": [
              "<Figure size 640x480 with 1 Axes>"
            ],
            "image/png": "[encoded data removed]"
          },
          "metadata": {}
        }
      ],
      "source": [
        "maxScore = np.max(lossQCD)\n",
        "# plot QCD\n",
        "plt.figure()\n",
        "plt.hist(lossQCD, bins=100, label='QCD', density=True, range=(0, maxScore), \n",
        "         histtype='step', fill=False, linewidth=1.5)\n",
        "for i in range(len(labels)):\n",
        "    plt.hist(loss_anomaly[i], bins=100, label=labels[i], density=True, range=(0, maxScore),\n",
        "            histtype='step', fill=False, linewidth=1.5)\n",
        "plt.semilogy()\n",
        "plt.xlabel(\"AE Loss\")\n",
        "plt.ylabel(\"Probability (a.u.)\")\n",
        "plt.grid(True)\n",
        "plt.legend(loc='upper right')\n",
        "plt.show()"
      ]
    },
    {
      "cell_type": "markdown",
      "metadata": {
        "id": "R5b_QDL9Tq9W"
      },
      "source": [
        "# Building the ROC Curves"
      ]
    },
    {
      "cell_type": "code",
      "execution_count": 23,
      "metadata": {
        "id": "02caZNDITq9W",
        "outputId": "b6a27510-1b22-4c54-d9aa-fd7eb0f00590",
        "colab": {
          "base_uri": "https://localhost:8080/",
          "height": 551
        }
      },
      "outputs": [
        {
          "output_type": "stream",
          "name": "stdout",
          "text": [
            "(10015,) (3982,)\n",
            "(13997,) (13997,)\n",
            "(10037,) (3982,)\n",
            "(14019,) (14019,)\n",
            "(10040,) (3982,)\n",
            "(14022,) (14022,)\n"
          ]
        },
        {
          "output_type": "display_data",
          "data": {
            "text/plain": [
              "<Figure size 640x480 with 1 Axes>"
            ],
            "image/png": "[encoded data removed]"
          },
          "metadata": {}
        }
      ],
      "source": [
        "from sklearn.metrics import roc_curve, auc\n",
        "plt.figure()\n",
        "targetQCD = np.zeros(lossQCD.shape[0])\n",
        "for i, label in enumerate(labels):\n",
        "        print(loss_anomaly[i].shape, targetQCD.shape)\n",
        "        trueVal = np.concatenate((np.ones(loss_anomaly[i].shape[0]),targetQCD))\n",
        "        predVal = np.concatenate((loss_anomaly[i],lossQCD))\n",
        "        print(trueVal.shape, predVal.shape)\n",
        "        fpr, tpr, threshold = roc_curve(trueVal,predVal)\n",
        "        auc1= auc(fpr, tpr)\n",
        "        plt.plot(tpr,fpr,label='%s Anomaly Detection, auc = %.1f%%'%(label,auc1*100.))\n",
        "#plt.semilogy()\n",
        "plt.xlabel(\"sig. efficiency\")\n",
        "plt.ylabel(\"bkg. mistag rate\")\n",
        "plt.grid(True)\n",
        "plt.legend(loc='upper left')\n",
        "plt.show()"
      ]
    },
    {
      "cell_type": "code",
      "execution_count": null,
      "metadata": {
        "id": "2UIDCJgcTq9X"
      },
      "outputs": [],
      "source": []
    }
  ],
  "metadata": {
    "kernelspec": {
      "display_name": "Python 3 (ipykernel)",
      "language": "python",
      "name": "python3"
    },
    "language_info": {
      "codemirror_mode": {
        "name": "ipython",
        "version": 3
      },
      "file_extension": ".py",
      "mimetype": "text/x-python",
      "name": "python",
      "nbconvert_exporter": "python",
      "pygments_lexer": "ipython3",
      "version": "3.9.12"
    },
    "colab": {
      "provenance": []
    }
  },
  "nbformat": 4,
  "nbformat_minor": 0
}