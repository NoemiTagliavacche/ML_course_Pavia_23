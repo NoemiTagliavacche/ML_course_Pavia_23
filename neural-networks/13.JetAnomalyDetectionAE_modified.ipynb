{
  "cells": [
    {
      "cell_type": "markdown",
      "metadata": {
        "id": "XuBp9KqQQTAH"
      },
      "source": [
        "# Training an Anomalous Jet Detector with **AE** \n",
        "\n",
        "---\n",
        "In this notebook, we train an unsupervised algorithm capable of compressing a jet features into a low-dimension laten space and, from there, reconstruct the input data. This type of architecture is **autoencoder**:\n",
        "\n",
        "<img src=\"https://github.com/NoemiTagliavacche/ML_course_Pavia_23/blob/main/neural-networks/figures/ae.png?raw=1\" alt=\"Drawing\" style=\"width: 600px;\"/>\n",
        "\n",
        "The distance between the input and the output is used to identify rare jets. When trained on background QCD jets (quarks and gluons) it will learn to well reconstruct them yeilding a small reconstruction loss (mean squared error distance) whenever the trained model is evaluated on those. When the trained model sees a different \"anomalous\" jet it will yield a large loss. Applying a lower treshold on the loss, one can veto standard QCD jets and select a sample enriched in anomalous jets (W, Z, top, etc). \n",
        "\n",
        "---"
      ]
    },
    {
      "cell_type": "code",
      "execution_count": 1,
      "metadata": {
        "id": "adS4l18gQTAJ"
      },
      "outputs": [],
      "source": [
        "import os\n",
        "import h5py\n",
        "import glob\n",
        "import numpy as np\n",
        "import matplotlib.pyplot as plt\n",
        "%matplotlib inline"
      ]
    },
    {
      "cell_type": "markdown",
      "metadata": {
        "id": "NWi0BcvcQTAK"
      },
      "source": [
        "# Preparation of the training and validation samples\n",
        "\n",
        "---\n",
        "In order to import the dataset, we now\n",
        "- clone the dataset repository (to import the data in Colab)\n",
        "- load the h5 files in the data/ repository\n",
        "- extract the data we need: a target and jetImage \n",
        "\n",
        "To type shell commands, we start the command line with !\n",
        "\n",
        "**nb, if you are running locally and you have already downloaded the datasets you can skip the cell below and, if needed, change the paths later to point to the folder with your previous download of the datasets.**"
      ]
    },
    {
      "cell_type": "code",
      "execution_count": 4,
      "metadata": {
        "id": "xGqM72lbQTAK",
        "outputId": "05f0410c-76f2-4196-f43e-422fd4d06eaa",
        "colab": {
          "base_uri": "https://localhost:8080/"
        }
      },
      "outputs": [
        {
          "output_type": "stream",
          "name": "stdout",
          "text": [
            "  % Total    % Received % Xferd  Average Speed   Time    Time     Time  Current\n",
            "                                 Dload  Upload   Total   Spent    Left  Speed\n",
            "100  333M    0  333M    0     0  59.4M      0 --:--:--  0:00:05 --:--:-- 76.2M\n",
            "Data-MLtutorial/\n",
            "Data-MLtutorial/JetDataset/\n",
            "Data-MLtutorial/JetDataset/jetImage_7_100p_0_10000.h5\n",
            "Data-MLtutorial/JetDataset/jetImage_7_100p_10000_20000.h5\n",
            "Data-MLtutorial/JetDataset/jetImage_7_100p_30000_40000.h5\n",
            "Data-MLtutorial/JetDataset/jetImage_7_100p_40000_50000.h5\n",
            "Data-MLtutorial/JetDataset/jetImage_7_100p_50000_60000.h5\n",
            "Data-MLtutorial/JetDataset/jetImage_7_100p_60000_70000.h5\n",
            "Data-MLtutorial/JetDataset/jetImage_7_100p_70000_80000.h5\n",
            "Data-MLtutorial/JetDataset/jetImage_7_100p_80000_90000.h5\n",
            "jetImage_7_100p_0_10000.h5\tjetImage_7_100p_50000_60000.h5\n",
            "jetImage_7_100p_10000_20000.h5\tjetImage_7_100p_60000_70000.h5\n",
            "jetImage_7_100p_30000_40000.h5\tjetImage_7_100p_70000_80000.h5\n",
            "jetImage_7_100p_40000_50000.h5\tjetImage_7_100p_80000_90000.h5\n"
          ]
        }
      ],
      "source": [
        "! curl https://cernbox.cern.ch/s/6Ec5pGFEpFWeH6S/download -o Data-MLtutorial.tar.gz\n",
        "! tar -xvzf Data-MLtutorial.tar.gz \n",
        "! ls Data-MLtutorial/JetDataset/\n",
        "! rm Data-MLtutorial.tar.gz "
      ]
    },
    {
      "cell_type": "code",
      "execution_count": 5,
      "metadata": {
        "id": "PPMvOox0QTAK",
        "outputId": "e44c9ef2-cfc3-4d98-af96-2bd92c6da842",
        "colab": {
          "base_uri": "https://localhost:8080/"
        }
      },
      "outputs": [
        {
          "output_type": "stream",
          "name": "stdout",
          "text": [
            "Appending Data-MLtutorial/JetDataset/jetImage_7_100p_30000_40000.h5\n",
            "Appending Data-MLtutorial/JetDataset/jetImage_7_100p_60000_70000.h5\n",
            "Appending Data-MLtutorial/JetDataset/jetImage_7_100p_50000_60000.h5\n",
            "Appending Data-MLtutorial/JetDataset/jetImage_7_100p_10000_20000.h5\n",
            "Appending Data-MLtutorial/JetDataset/jetImage_7_100p_0_10000.h5\n",
            "(50000, 5) (50000, 16)\n"
          ]
        }
      ],
      "source": [
        "target = np.array([])\n",
        "features = np.array([])\n",
        "# we cannot load all data on Colab. So we just take a few files\n",
        "datafiles = ['Data-MLtutorial/JetDataset/jetImage_7_100p_30000_40000.h5',\n",
        "             'Data-MLtutorial/JetDataset/jetImage_7_100p_60000_70000.h5',\n",
        "             'Data-MLtutorial/JetDataset/jetImage_7_100p_50000_60000.h5',\n",
        "             'Data-MLtutorial/JetDataset/jetImage_7_100p_10000_20000.h5',\n",
        "             'Data-MLtutorial/JetDataset/jetImage_7_100p_0_10000.h5']\n",
        "# if you are running locallt, you can use the full dataset doing\n",
        "# for fileIN in glob.glob(\"tutorials/HiggsSchool/data/*h5\"):\n",
        "for fileIN in datafiles:\n",
        "    print(\"Appending %s\" %fileIN)\n",
        "    f = h5py.File(fileIN)\n",
        "    myFeatures = np.array(f.get(\"jets\")[:,[12, 34, 35, 36, 37, 38, 39, 40, 41, 42, 43, 44, 45, 46, 48, 52]])\n",
        "    mytarget = np.array(f.get('jets')[0:,-6:-1])\n",
        "    features = np.concatenate([features, myFeatures], axis=0) if features.size else myFeatures\n",
        "    target = np.concatenate([target, mytarget], axis=0) if target.size else mytarget\n",
        "    f.close()\n",
        "print(target.shape, features.shape)"
      ]
    },
    {
      "cell_type": "code",
      "execution_count": 6,
      "metadata": {
        "id": "YBIUo1gZQTAL",
        "outputId": "7f6b6da4-01ac-4747-fbe6-26508d60acca",
        "colab": {
          "base_uri": "https://localhost:8080/"
        }
      },
      "outputs": [
        {
          "output_type": "stream",
          "name": "stdout",
          "text": [
            "0.08990890900131082 0.0013334328255667934\n",
            "6.394884621840902e-19 1.0000000000000036\n"
          ]
        }
      ],
      "source": [
        "# we standardize the data, so that the mean is = 0 and rms = 1 \n",
        "from sklearn.preprocessing import StandardScaler\n",
        "print(np.mean(features[:,10]), np.var(features[:,10]))\n",
        "scaler = StandardScaler()\n",
        "scaler.fit(features)\n",
        "features = scaler.transform(features)\n",
        "print(np.mean(features[:,10]), np.var(features[:,10]))"
      ]
    },
    {
      "cell_type": "markdown",
      "metadata": {
        "id": "Qpgt1a6tQTAL"
      },
      "source": [
        "We now separate the dataset in 4:\n",
        "- a training dataset, consisting of quarks and gluons\n",
        "- three 'anomalous jets' samples: W, Z, and top"
      ]
    },
    {
      "cell_type": "code",
      "execution_count": 7,
      "metadata": {
        "id": "NCDD2jMPQTAL",
        "outputId": "d7b7a2f3-0afb-4d66-d474-f04fab170be8",
        "colab": {
          "base_uri": "https://localhost:8080/"
        }
      },
      "outputs": [
        {
          "output_type": "stream",
          "name": "stdout",
          "text": [
            "(19908, 16) (10015, 16) (10037, 16) (10040, 16)\n"
          ]
        }
      ],
      "source": [
        "features_standard = features[np.argmax(target,axis=1)<2] #for the train\n",
        "features_W = features[np.argmax(target,axis=1)==2] #our anomalous signals\n",
        "features_Z = features[np.argmax(target,axis=1)==3]\n",
        "features_t = features[np.argmax(target,axis=1)==4]\n",
        "print(features_standard.shape, features_W.shape, features_Z.shape, features_t.shape)"
      ]
    },
    {
      "cell_type": "markdown",
      "metadata": {
        "id": "j1ylNsohQTAL"
      },
      "source": [
        "Notice that this is an unsupervised algorithm, so we don't need the target array anymore.\n",
        "Nevertheless, we keep a part of it around, since it might be useful to test the response \n",
        "of the algorithm to quarks and gluons separetly"
      ]
    },
    {
      "cell_type": "code",
      "execution_count": 8,
      "metadata": {
        "id": "rNtUCHczQTAL",
        "outputId": "a3f1c9b0-aa38-4876-c446-5a84a315d57a",
        "colab": {
          "base_uri": "https://localhost:8080/"
        }
      },
      "outputs": [
        {
          "output_type": "stream",
          "name": "stdout",
          "text": [
            "[[1. 0. 0. 0. 0.]\n",
            " [1. 0. 0. 0. 0.]\n",
            " [1. 0. 0. 0. 0.]\n",
            " ...\n",
            " [1. 0. 0. 0. 0.]\n",
            " [1. 0. 0. 0. 0.]\n",
            " [0. 1. 0. 0. 0.]]\n"
          ]
        }
      ],
      "source": [
        "label_standard = target[np.argmax(target,axis=1)<2]\n",
        "print(label_standard)"
      ]
    },
    {
      "cell_type": "markdown",
      "metadata": {
        "id": "HJ771HCkQTAL"
      },
      "source": [
        "We now shuffle the standard-jet data and its labels, splitting them into a training, a validation+test dataset with 2:1:1 ratio. \n",
        "\n",
        "Then we separate the validation+test in two halves (training and validation)"
      ]
    },
    {
      "cell_type": "code",
      "execution_count": 9,
      "metadata": {
        "id": "cnoTtSTYQTAM",
        "outputId": "29f8c541-d054-482b-ba82-785ca853cf0f",
        "colab": {
          "base_uri": "https://localhost:8080/"
        }
      },
      "outputs": [
        {
          "output_type": "stream",
          "name": "stdout",
          "text": [
            "(15926, 16) (15926, 5) (3982, 16) (3982, 5)\n",
            "(12740, 16) (12740, 5) (3186, 16) (3186, 5) (3982, 16) (3982, 5)\n"
          ]
        }
      ],
      "source": [
        "from sklearn.model_selection import train_test_split\n",
        "\n",
        "#split into training and test\n",
        "X_learn, X_test, label_learn, label_test = train_test_split(features_standard, label_standard, test_size=0.2)\n",
        "print(X_learn.shape, label_learn.shape, X_test.shape, label_test.shape)\n",
        "\n",
        "#split the training dataset into training and validation #to use during the training\n",
        "X_train, X_val, label_train, label_val = train_test_split(X_learn, label_learn, test_size=0.2)\n",
        "print(X_train.shape, label_train.shape, X_val.shape,  label_val.shape, X_test.shape, label_test.shape)\n",
        "\n",
        "del features_standard, label_standard, features, target, X_learn, label_learn"
      ]
    },
    {
      "cell_type": "markdown",
      "metadata": {
        "id": "bQ2z5B--QTAM"
      },
      "source": [
        "# Building the AE model"
      ]
    },
    {
      "cell_type": "code",
      "execution_count": 10,
      "metadata": {
        "id": "bgndQDXNQTAM"
      },
      "outputs": [],
      "source": [
        "# keras imports\n",
        "from tensorflow.keras.models import Model\n",
        "from tensorflow.keras.layers import Dense, Input, Flatten\n",
        "from tensorflow.keras.layers import BatchNormalization, Activation\n",
        "from tensorflow.keras.utils import plot_model\n",
        "from tensorflow.keras import backend as K\n",
        "from tensorflow.keras import metrics\n",
        "from tensorflow.keras.callbacks import EarlyStopping, ReduceLROnPlateau, TerminateOnNaN"
      ]
    },
    {
      "cell_type": "code",
      "execution_count": 12,
      "metadata": {
        "id": "SrMlJ8XkQTAM"
      },
      "outputs": [],
      "source": [
        "#---------\n",
        "# Enncoder\n",
        "#---------\n",
        "inputLayer = Input(shape=(16)) #16 features of input\n",
        "#\n",
        "enc = Dense(10)(inputLayer)\n",
        "enc = Activation('elu')(enc) #elu activation function\n",
        "#\n",
        "enc = Dense(5)(enc)\n",
        "enc = Activation('elu')(enc)\n",
        "\n",
        "#---------\n",
        "# Decoder\n",
        "#---------\n",
        "dec = Dense(10)(enc)\n",
        "dec = Activation('elu')(dec)\n",
        "#\n",
        "dec = Dense(16)(dec)\n",
        "autoencoder = Model(inputs=inputLayer, outputs=dec)"
      ]
    },
    {
      "cell_type": "code",
      "execution_count": 13,
      "metadata": {
        "id": "5yGWwViQQTAM",
        "outputId": "83ac52d9-02de-41cf-ef0f-9926bc65c66c",
        "colab": {
          "base_uri": "https://localhost:8080/"
        }
      },
      "outputs": [
        {
          "output_type": "stream",
          "name": "stdout",
          "text": [
            "Model: \"model_1\"\n",
            "_________________________________________________________________\n",
            " Layer (type)                Output Shape              Param #   \n",
            "=================================================================\n",
            " input_2 (InputLayer)        [(None, 16)]              0         \n",
            "                                                                 \n",
            " dense_4 (Dense)             (None, 10)                170       \n",
            "                                                                 \n",
            " activation_3 (Activation)   (None, 10)                0         \n",
            "                                                                 \n",
            " dense_5 (Dense)             (None, 5)                 55        \n",
            "                                                                 \n",
            " activation_4 (Activation)   (None, 5)                 0         \n",
            "                                                                 \n",
            " dense_6 (Dense)             (None, 10)                60        \n",
            "                                                                 \n",
            " activation_5 (Activation)   (None, 10)                0         \n",
            "                                                                 \n",
            " dense_7 (Dense)             (None, 16)                176       \n",
            "                                                                 \n",
            "=================================================================\n",
            "Total params: 461\n",
            "Trainable params: 461\n",
            "Non-trainable params: 0\n",
            "_________________________________________________________________\n"
          ]
        }
      ],
      "source": [
        "autoencoder.compile(loss='mse', optimizer='adam')\n",
        "autoencoder.summary()"
      ]
    },
    {
      "cell_type": "markdown",
      "metadata": {
        "id": "u-JHZG1VQTAM"
      },
      "source": [
        "We now train the model. Notice the difference with respect to the supervised case\n",
        "- the input to the training is (X,X) and nor (X, y). Similarly for the validation dataset\n",
        "- the model has no dropout. It is difficult for an unsupervised model to overtran, so there is not really a need"
      ]
    },
    {
      "cell_type": "code",
      "execution_count": 14,
      "metadata": {
        "id": "9jhB74BqQTAN"
      },
      "outputs": [],
      "source": [
        "batch_size = 128\n",
        "n_epochs = 200"
      ]
    },
    {
      "cell_type": "code",
      "execution_count": 15,
      "metadata": {
        "id": "YW8aDvNcQTAN",
        "outputId": "d56c7369-2698-4a8e-a800-0e80409f966a",
        "colab": {
          "base_uri": "https://localhost:8080/"
        }
      },
      "outputs": [
        {
          "output_type": "stream",
          "name": "stdout",
          "text": [
            "Epoch 1/200\n",
            "100/100 - 1s - loss: 0.7957 - val_loss: 0.4945 - lr: 0.0010 - 1s/epoch - 14ms/step\n",
            "Epoch 2/200\n",
            "100/100 - 0s - loss: 0.3440 - val_loss: 0.2346 - lr: 0.0010 - 232ms/epoch - 2ms/step\n",
            "Epoch 3/200\n",
            "100/100 - 0s - loss: 0.1756 - val_loss: 0.1351 - lr: 0.0010 - 246ms/epoch - 2ms/step\n",
            "Epoch 4/200\n",
            "100/100 - 0s - loss: 0.1159 - val_loss: 0.1044 - lr: 0.0010 - 403ms/epoch - 4ms/step\n",
            "Epoch 5/200\n",
            "100/100 - 0s - loss: 0.0958 - val_loss: 0.0911 - lr: 0.0010 - 365ms/epoch - 4ms/step\n",
            "Epoch 6/200\n",
            "100/100 - 1s - loss: 0.0855 - val_loss: 0.0829 - lr: 0.0010 - 536ms/epoch - 5ms/step\n",
            "Epoch 7/200\n",
            "100/100 - 1s - loss: 0.0784 - val_loss: 0.0767 - lr: 0.0010 - 647ms/epoch - 6ms/step\n",
            "Epoch 8/200\n",
            "100/100 - 1s - loss: 0.0728 - val_loss: 0.0715 - lr: 0.0010 - 513ms/epoch - 5ms/step\n",
            "Epoch 9/200\n",
            "100/100 - 0s - loss: 0.0682 - val_loss: 0.0670 - lr: 0.0010 - 494ms/epoch - 5ms/step\n",
            "Epoch 10/200\n",
            "100/100 - 0s - loss: 0.0641 - val_loss: 0.0631 - lr: 0.0010 - 435ms/epoch - 4ms/step\n",
            "Epoch 11/200\n",
            "100/100 - 0s - loss: 0.0604 - val_loss: 0.0592 - lr: 0.0010 - 487ms/epoch - 5ms/step\n",
            "Epoch 12/200\n",
            "100/100 - 1s - loss: 0.0566 - val_loss: 0.0552 - lr: 0.0010 - 849ms/epoch - 8ms/step\n",
            "Epoch 13/200\n",
            "100/100 - 1s - loss: 0.0526 - val_loss: 0.0507 - lr: 0.0010 - 896ms/epoch - 9ms/step\n",
            "Epoch 14/200\n",
            "100/100 - 1s - loss: 0.0481 - val_loss: 0.0459 - lr: 0.0010 - 1s/epoch - 14ms/step\n",
            "Epoch 15/200\n",
            "100/100 - 1s - loss: 0.0431 - val_loss: 0.0409 - lr: 0.0010 - 508ms/epoch - 5ms/step\n",
            "Epoch 16/200\n",
            "100/100 - 1s - loss: 0.0385 - val_loss: 0.0367 - lr: 0.0010 - 529ms/epoch - 5ms/step\n",
            "Epoch 17/200\n",
            "100/100 - 0s - loss: 0.0347 - val_loss: 0.0335 - lr: 0.0010 - 459ms/epoch - 5ms/step\n",
            "Epoch 18/200\n",
            "100/100 - 0s - loss: 0.0321 - val_loss: 0.0314 - lr: 0.0010 - 360ms/epoch - 4ms/step\n",
            "Epoch 19/200\n",
            "100/100 - 1s - loss: 0.0303 - val_loss: 0.0298 - lr: 0.0010 - 514ms/epoch - 5ms/step\n",
            "Epoch 20/200\n",
            "100/100 - 1s - loss: 0.0289 - val_loss: 0.0286 - lr: 0.0010 - 625ms/epoch - 6ms/step\n",
            "Epoch 21/200\n",
            "100/100 - 0s - loss: 0.0279 - val_loss: 0.0277 - lr: 0.0010 - 251ms/epoch - 3ms/step\n",
            "Epoch 22/200\n",
            "100/100 - 0s - loss: 0.0270 - val_loss: 0.0269 - lr: 0.0010 - 240ms/epoch - 2ms/step\n",
            "Epoch 23/200\n",
            "100/100 - 0s - loss: 0.0262 - val_loss: 0.0261 - lr: 0.0010 - 256ms/epoch - 3ms/step\n",
            "Epoch 24/200\n",
            "100/100 - 0s - loss: 0.0255 - val_loss: 0.0255 - lr: 0.0010 - 230ms/epoch - 2ms/step\n",
            "Epoch 25/200\n",
            "100/100 - 0s - loss: 0.0250 - val_loss: 0.0249 - lr: 0.0010 - 219ms/epoch - 2ms/step\n",
            "Epoch 26/200\n",
            "100/100 - 0s - loss: 0.0244 - val_loss: 0.0243 - lr: 0.0010 - 276ms/epoch - 3ms/step\n",
            "Epoch 27/200\n",
            "100/100 - 0s - loss: 0.0239 - val_loss: 0.0238 - lr: 0.0010 - 255ms/epoch - 3ms/step\n",
            "Epoch 28/200\n",
            "100/100 - 0s - loss: 0.0234 - val_loss: 0.0233 - lr: 0.0010 - 245ms/epoch - 2ms/step\n",
            "Epoch 29/200\n",
            "100/100 - 0s - loss: 0.0229 - val_loss: 0.0229 - lr: 0.0010 - 281ms/epoch - 3ms/step\n",
            "Epoch 30/200\n",
            "100/100 - 0s - loss: 0.0225 - val_loss: 0.0224 - lr: 0.0010 - 230ms/epoch - 2ms/step\n",
            "Epoch 31/200\n",
            "100/100 - 0s - loss: 0.0220 - val_loss: 0.0220 - lr: 0.0010 - 222ms/epoch - 2ms/step\n",
            "Epoch 32/200\n",
            "100/100 - 0s - loss: 0.0216 - val_loss: 0.0217 - lr: 0.0010 - 256ms/epoch - 3ms/step\n",
            "Epoch 33/200\n",
            "100/100 - 0s - loss: 0.0212 - val_loss: 0.0212 - lr: 0.0010 - 256ms/epoch - 3ms/step\n",
            "Epoch 34/200\n",
            "100/100 - 0s - loss: 0.0208 - val_loss: 0.0208 - lr: 0.0010 - 261ms/epoch - 3ms/step\n",
            "Epoch 35/200\n",
            "100/100 - 0s - loss: 0.0205 - val_loss: 0.0204 - lr: 0.0010 - 228ms/epoch - 2ms/step\n",
            "Epoch 36/200\n",
            "100/100 - 0s - loss: 0.0201 - val_loss: 0.0201 - lr: 0.0010 - 229ms/epoch - 2ms/step\n",
            "Epoch 37/200\n",
            "100/100 - 0s - loss: 0.0197 - val_loss: 0.0197 - lr: 0.0010 - 253ms/epoch - 3ms/step\n",
            "Epoch 38/200\n",
            "100/100 - 0s - loss: 0.0194 - val_loss: 0.0194 - lr: 0.0010 - 268ms/epoch - 3ms/step\n",
            "Epoch 39/200\n",
            "100/100 - 0s - loss: 0.0191 - val_loss: 0.0192 - lr: 0.0010 - 251ms/epoch - 3ms/step\n",
            "Epoch 40/200\n",
            "100/100 - 0s - loss: 0.0189 - val_loss: 0.0189 - lr: 0.0010 - 253ms/epoch - 3ms/step\n",
            "Epoch 41/200\n",
            "100/100 - 0s - loss: 0.0187 - val_loss: 0.0187 - lr: 0.0010 - 228ms/epoch - 2ms/step\n",
            "Epoch 42/200\n",
            "100/100 - 0s - loss: 0.0184 - val_loss: 0.0184 - lr: 0.0010 - 270ms/epoch - 3ms/step\n",
            "Epoch 43/200\n",
            "100/100 - 0s - loss: 0.0182 - val_loss: 0.0183 - lr: 0.0010 - 265ms/epoch - 3ms/step\n",
            "Epoch 44/200\n",
            "100/100 - 0s - loss: 0.0180 - val_loss: 0.0180 - lr: 0.0010 - 240ms/epoch - 2ms/step\n",
            "Epoch 45/200\n",
            "100/100 - 0s - loss: 0.0179 - val_loss: 0.0178 - lr: 0.0010 - 231ms/epoch - 2ms/step\n",
            "Epoch 46/200\n",
            "100/100 - 0s - loss: 0.0177 - val_loss: 0.0177 - lr: 0.0010 - 246ms/epoch - 2ms/step\n",
            "Epoch 47/200\n",
            "100/100 - 0s - loss: 0.0176 - val_loss: 0.0178 - lr: 0.0010 - 229ms/epoch - 2ms/step\n",
            "Epoch 48/200\n",
            "100/100 - 0s - loss: 0.0175 - val_loss: 0.0175 - lr: 0.0010 - 300ms/epoch - 3ms/step\n",
            "Epoch 49/200\n",
            "100/100 - 0s - loss: 0.0174 - val_loss: 0.0174 - lr: 0.0010 - 364ms/epoch - 4ms/step\n",
            "Epoch 50/200\n",
            "100/100 - 0s - loss: 0.0173 - val_loss: 0.0173 - lr: 0.0010 - 366ms/epoch - 4ms/step\n",
            "Epoch 51/200\n",
            "100/100 - 0s - loss: 0.0171 - val_loss: 0.0172 - lr: 0.0010 - 331ms/epoch - 3ms/step\n",
            "Epoch 52/200\n",
            "100/100 - 0s - loss: 0.0171 - val_loss: 0.0172 - lr: 0.0010 - 355ms/epoch - 4ms/step\n",
            "Epoch 53/200\n",
            "100/100 - 0s - loss: 0.0170 - val_loss: 0.0170 - lr: 0.0010 - 338ms/epoch - 3ms/step\n",
            "Epoch 54/200\n",
            "100/100 - 0s - loss: 0.0169 - val_loss: 0.0169 - lr: 0.0010 - 336ms/epoch - 3ms/step\n",
            "Epoch 55/200\n",
            "\n",
            "Epoch 55: ReduceLROnPlateau reducing learning rate to 0.00010000000474974513.\n",
            "100/100 - 0s - loss: 0.0168 - val_loss: 0.0169 - lr: 0.0010 - 361ms/epoch - 4ms/step\n",
            "Epoch 56/200\n",
            "100/100 - 0s - loss: 0.0166 - val_loss: 0.0167 - lr: 1.0000e-04 - 289ms/epoch - 3ms/step\n",
            "Epoch 57/200\n",
            "100/100 - 0s - loss: 0.0166 - val_loss: 0.0167 - lr: 1.0000e-04 - 252ms/epoch - 3ms/step\n",
            "Epoch 58/200\n",
            "\n",
            "Epoch 58: ReduceLROnPlateau reducing learning rate to 1.0000000474974514e-05.\n",
            "100/100 - 0s - loss: 0.0166 - val_loss: 0.0167 - lr: 1.0000e-04 - 226ms/epoch - 2ms/step\n",
            "Epoch 59/200\n",
            "100/100 - 0s - loss: 0.0166 - val_loss: 0.0167 - lr: 1.0000e-05 - 255ms/epoch - 3ms/step\n",
            "Epoch 60/200\n",
            "\n",
            "Epoch 60: ReduceLROnPlateau reducing learning rate to 1.0000000656873453e-06.\n",
            "100/100 - 0s - loss: 0.0166 - val_loss: 0.0167 - lr: 1.0000e-05 - 237ms/epoch - 2ms/step\n",
            "Epoch 61/200\n",
            "100/100 - 0s - loss: 0.0166 - val_loss: 0.0167 - lr: 1.0000e-06 - 223ms/epoch - 2ms/step\n",
            "Epoch 62/200\n",
            "\n",
            "Epoch 62: ReduceLROnPlateau reducing learning rate to 1.0000001111620805e-07.\n",
            "100/100 - 0s - loss: 0.0166 - val_loss: 0.0167 - lr: 1.0000e-06 - 240ms/epoch - 2ms/step\n",
            "Epoch 63/200\n",
            "100/100 - 0s - loss: 0.0166 - val_loss: 0.0167 - lr: 1.0000e-07 - 221ms/epoch - 2ms/step\n",
            "Epoch 64/200\n",
            "\n",
            "Epoch 64: ReduceLROnPlateau reducing learning rate to 1.000000082740371e-08.\n",
            "100/100 - 0s - loss: 0.0166 - val_loss: 0.0167 - lr: 1.0000e-07 - 231ms/epoch - 2ms/step\n",
            "Epoch 65/200\n",
            "100/100 - 0s - loss: 0.0166 - val_loss: 0.0167 - lr: 1.0000e-08 - 219ms/epoch - 2ms/step\n",
            "Epoch 66/200\n",
            "\n",
            "Epoch 66: ReduceLROnPlateau reducing learning rate to 1.000000082740371e-09.\n",
            "100/100 - 0s - loss: 0.0166 - val_loss: 0.0167 - lr: 1.0000e-08 - 280ms/epoch - 3ms/step\n",
            "Epoch 67/200\n",
            "100/100 - 0s - loss: 0.0166 - val_loss: 0.0167 - lr: 1.0000e-09 - 228ms/epoch - 2ms/step\n",
            "Epoch 68/200\n",
            "\n",
            "Epoch 68: ReduceLROnPlateau reducing learning rate to 1.000000082740371e-10.\n",
            "100/100 - 0s - loss: 0.0166 - val_loss: 0.0167 - lr: 1.0000e-09 - 238ms/epoch - 2ms/step\n",
            "Epoch 69/200\n",
            "100/100 - 0s - loss: 0.0166 - val_loss: 0.0167 - lr: 1.0000e-10 - 261ms/epoch - 3ms/step\n",
            "Epoch 70/200\n",
            "\n",
            "Epoch 70: ReduceLROnPlateau reducing learning rate to 1.000000082740371e-11.\n",
            "100/100 - 0s - loss: 0.0166 - val_loss: 0.0167 - lr: 1.0000e-10 - 230ms/epoch - 2ms/step\n",
            "Epoch 71/200\n",
            "100/100 - 0s - loss: 0.0166 - val_loss: 0.0167 - lr: 1.0000e-11 - 254ms/epoch - 3ms/step\n",
            "Epoch 72/200\n",
            "\n",
            "Epoch 72: ReduceLROnPlateau reducing learning rate to 1.000000082740371e-12.\n",
            "100/100 - 0s - loss: 0.0166 - val_loss: 0.0167 - lr: 1.0000e-11 - 226ms/epoch - 2ms/step\n",
            "Epoch 73/200\n",
            "100/100 - 0s - loss: 0.0166 - val_loss: 0.0167 - lr: 1.0000e-12 - 257ms/epoch - 3ms/step\n",
            "Epoch 74/200\n",
            "\n",
            "Epoch 74: ReduceLROnPlateau reducing learning rate to 1.0000001044244145e-13.\n",
            "100/100 - 0s - loss: 0.0166 - val_loss: 0.0167 - lr: 1.0000e-12 - 225ms/epoch - 2ms/step\n",
            "Epoch 74: early stopping\n"
          ]
        }
      ],
      "source": [
        "# train \n",
        "history = autoencoder.fit(X_train, X_train, epochs=n_epochs, batch_size=batch_size, verbose = 2,\n",
        "                validation_data=(X_val, X_val),\n",
        "                callbacks = [\n",
        "                EarlyStopping(monitor='val_loss', patience=10, verbose=1),\n",
        "                ReduceLROnPlateau(monitor='val_loss', factor=0.1, patience=2, verbose=1),\n",
        "                TerminateOnNaN()])"
      ]
    },
    {
      "cell_type": "code",
      "execution_count": 16,
      "metadata": {
        "id": "SBS9QklbQTAN",
        "outputId": "d3ef79b8-8ed5-4f7c-ae5d-bd4150a3764f",
        "colab": {
          "base_uri": "https://localhost:8080/",
          "height": 472
        }
      },
      "outputs": [
        {
          "output_type": "display_data",
          "data": {
            "text/plain": [
              "<Figure size 640x480 with 1 Axes>"
            ],
            "image/png": "[encoded data removed]"
          },
          "metadata": {}
        }
      ],
      "source": [
        "# plot training history\n",
        "plt.plot(history.history['loss'])\n",
        "plt.plot(history.history['val_loss'])\n",
        "plt.yscale('log')\n",
        "plt.title('Training History')\n",
        "plt.ylabel('loss')\n",
        "plt.xlabel('epoch')\n",
        "plt.legend(['training', 'validation'], loc='upper right')\n",
        "plt.show()"
      ]
    },
    {
      "cell_type": "markdown",
      "metadata": {
        "id": "2ODBRTdhQTAN"
      },
      "source": [
        "# Loss Distributions"
      ]
    },
    {
      "cell_type": "code",
      "execution_count": 17,
      "metadata": {
        "id": "gS7vgpR7QTAN"
      },
      "outputs": [],
      "source": [
        "labels = ['W', 'Z', 'top']"
      ]
    },
    {
      "cell_type": "code",
      "execution_count": 18,
      "metadata": {
        "id": "GHeEpv65QTAN",
        "outputId": "5d404cca-9255-4630-bb3e-e4b90ab3ab40",
        "colab": {
          "base_uri": "https://localhost:8080/"
        }
      },
      "outputs": [
        {
          "output_type": "stream",
          "name": "stdout",
          "text": [
            "125/125 [==============================] - 0s 2ms/step\n",
            "313/313 [==============================] - 1s 3ms/step\n",
            "314/314 [==============================] - 1s 2ms/step\n",
            "314/314 [==============================] - 0s 1ms/step\n"
          ]
        }
      ],
      "source": [
        "anomaly = [features_W, features_Z, features_t]\n",
        "predictedQCD = autoencoder.predict(X_test)\n",
        "predicted_anomaly = []\n",
        "for i in range(len(labels)):\n",
        "    predicted_anomaly.append(autoencoder.predict(anomaly[i]))"
      ]
    },
    {
      "cell_type": "code",
      "execution_count": 19,
      "metadata": {
        "id": "aT8loet9QTAN"
      },
      "outputs": [],
      "source": [
        "def mse(data_in, data_out):\n",
        "    mse = (data_out-data_in)*(data_out-data_in)\n",
        "    # sum over features\n",
        "    mse = mse.sum(-1)\n",
        "    return mse    "
      ]
    },
    {
      "cell_type": "code",
      "execution_count": 20,
      "metadata": {
        "id": "IhIpAMmOQTAN"
      },
      "outputs": [],
      "source": [
        "lossQCD = mse(X_test, predictedQCD) #predicted are the recostructed inputs\n",
        "loss_anomaly = []\n",
        "for i in range(len(labels)):\n",
        "    loss_anomaly.append(mse(anomaly[i], predicted_anomaly[i]))"
      ]
    },
    {
      "cell_type": "code",
      "execution_count": 21,
      "metadata": {
        "id": "Q3QbNYBGQTAO",
        "outputId": "ce985f4d-4d31-4928-9d4b-d949b682fbab",
        "colab": {
          "base_uri": "https://localhost:8080/",
          "height": 449
        }
      },
      "outputs": [
        {
          "output_type": "display_data",
          "data": {
            "text/plain": [
              "<Figure size 640x480 with 1 Axes>"
            ],
            "image/png": "[encoded data removed]"
          },
          "metadata": {}
        }
      ],
      "source": [
        "maxScore = np.max(lossQCD)\n",
        "# plot QCD\n",
        "plt.figure()\n",
        "plt.hist(lossQCD, bins=100, label='QCD', density=True, range=(0, maxScore), \n",
        "         histtype='step', fill=False, linewidth=1.5)\n",
        "plt.semilogy()\n",
        "plt.xlabel(\"AE Loss\")\n",
        "plt.ylabel(\"Probability (a.u.)\")\n",
        "plt.grid(True)\n",
        "plt.legend(loc='upper right')\n",
        "plt.show()"
      ]
    },
    {
      "cell_type": "code",
      "execution_count": 22,
      "metadata": {
        "id": "6XL4z-gNQTAO",
        "outputId": "062387cd-363f-4660-f022-e5d9b57bb0f0",
        "colab": {
          "base_uri": "https://localhost:8080/",
          "height": 449
        }
      },
      "outputs": [
        {
          "output_type": "display_data",
          "data": {
            "text/plain": [
              "<Figure size 640x480 with 1 Axes>"
            ],
            "image/png": "[encoded data removed]"
          },
          "metadata": {}
        }
      ],
      "source": [
        "maxScore = np.max(lossQCD)\n",
        "# plot QCD\n",
        "plt.figure()\n",
        "plt.hist(lossQCD, bins=100, label='QCD', density=True, range=(0, maxScore), \n",
        "         histtype='step', fill=False, linewidth=1.5)\n",
        "for i in range(len(labels)):\n",
        "    plt.hist(loss_anomaly[i], bins=100, label=labels[i], density=True, range=(0, maxScore),\n",
        "            histtype='step', fill=False, linewidth=1.5)\n",
        "plt.semilogy()\n",
        "plt.xlabel(\"AE Loss\")\n",
        "plt.ylabel(\"Probability (a.u.)\")\n",
        "plt.grid(True)\n",
        "plt.legend(loc='upper right')\n",
        "plt.show()"
      ]
    },
    {
      "cell_type": "markdown",
      "metadata": {
        "id": "Ct4gu5SBQTAO"
      },
      "source": [
        "# Building the ROC Curves"
      ]
    },
    {
      "cell_type": "code",
      "execution_count": 23,
      "metadata": {
        "id": "6GjL2q1yQTAO",
        "outputId": "3f1a2d0d-3cb6-4d3e-8645-bf297ff2fbac",
        "colab": {
          "base_uri": "https://localhost:8080/",
          "height": 551
        }
      },
      "outputs": [
        {
          "output_type": "stream",
          "name": "stdout",
          "text": [
            "(10015,) (3982,)\n",
            "(13997,) (13997,)\n",
            "(10037,) (3982,)\n",
            "(14019,) (14019,)\n",
            "(10040,) (3982,)\n",
            "(14022,) (14022,)\n"
          ]
        },
        {
          "output_type": "display_data",
          "data": {
            "text/plain": [
              "<Figure size 640x480 with 1 Axes>"
            ],
            "image/png": "[encoded data removed]"
          },
          "metadata": {}
        }
      ],
      "source": [
        "from sklearn.metrics import roc_curve, auc\n",
        "plt.figure()\n",
        "targetQCD = np.zeros(lossQCD.shape[0])\n",
        "for i, label in enumerate(labels):\n",
        "        print(loss_anomaly[i].shape, targetQCD.shape)\n",
        "        trueVal = np.concatenate((np.ones(loss_anomaly[i].shape[0]),targetQCD))\n",
        "        predVal = np.concatenate((loss_anomaly[i],lossQCD))\n",
        "        print(trueVal.shape, predVal.shape)\n",
        "        fpr, tpr, threshold = roc_curve(trueVal,predVal)\n",
        "        auc1= auc(fpr, tpr)\n",
        "        plt.plot(tpr,fpr,label='%s Anomaly Detection, auc = %.1f%%'%(label,auc1*100.))\n",
        "#plt.semilogy()\n",
        "plt.xlabel(\"sig. efficiency\")\n",
        "plt.ylabel(\"bkg. mistag rate\")\n",
        "plt.grid(True)\n",
        "plt.legend(loc='lower right')\n",
        "plt.show()\n",
        "\n",
        "#not the best but this is an unsupervised algorithm so this is not good as supervised, but it works enough good"
      ]
    },
    {
      "cell_type": "code",
      "execution_count": null,
      "metadata": {
        "id": "ieZuPA3LQTAO"
      },
      "outputs": [],
      "source": []
    }
  ],
  "metadata": {
    "kernelspec": {
      "display_name": "Python 3 (ipykernel)",
      "language": "python",
      "name": "python3"
    },
    "language_info": {
      "codemirror_mode": {
        "name": "ipython",
        "version": 3
      },
      "file_extension": ".py",
      "mimetype": "text/x-python",
      "name": "python",
      "nbconvert_exporter": "python",
      "pygments_lexer": "ipython3",
      "version": "3.9.12"
    },
    "colab": {
      "provenance": []
    }
  },
  "nbformat": 4,
  "nbformat_minor": 0
}