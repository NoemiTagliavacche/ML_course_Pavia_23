{
 "cells": [
  {
   "cell_type": "code",
   "execution_count": 3,
   "metadata": {},
   "outputs": [],
   "source": [
    "import numpy as np\n",
    "import matplotlib.pyplot as plt\n",
    "import cmath\n"
   ]
  },
  {
   "cell_type": "code",
   "execution_count": 32,
   "metadata": {},
   "outputs": [
    {
     "name": "stdout",
     "output_type": "stream",
     "text": [
      "<class 'numpy.ndarray'>\n",
      "(250, 16) (250, 16)\n"
     ]
    }
   ],
   "source": [
    "#upload data generated in MATLAB\n",
    "physical_real=np.loadtxt(r'/Users/noemitagliavacche/Documents/PhD/COURSES/MACHINE_LEARNING/Exam/MATLAB_dataset_creation/250_Physical_matrices_Dim=4_RealPart.txt')\n",
    "Non_physical_real=np.loadtxt(r'/Users/noemitagliavacche/Documents/PhD/COURSES/MACHINE_LEARNING/Exam/MATLAB_dataset_creation/250_Non_Physical_matrices_Dim=4_RealPart.txt')\n",
    "physical_imag=np.loadtxt(r'/Users/noemitagliavacche/Documents/PhD/COURSES/MACHINE_LEARNING/Exam/MATLAB_dataset_creation/250_Physical_matrices_Dim=4_ImagPart.txt')\n",
    "Non_physical_imag=np.loadtxt(r'/Users/noemitagliavacche/Documents/PhD/COURSES/MACHINE_LEARNING/Exam/MATLAB_dataset_creation/250_Non_Physical_matrices_Dim=4_ImagPart.txt')\n",
    "\n",
    "\n",
    "#to create the dataset\n",
    "Physical_mat=[]\n",
    "NonPhysical_mat=[]\n",
    "\n",
    "for i in range(physical_real.shape[0]):\n",
    "    for j in range(physical_real.shape[1]):\n",
    "        Physical_mat=np.append(Physical_mat,complex(physical_real[i][j],physical_imag[i][j]))\n",
    "        NonPhysical_mat=np.append(NonPhysical_mat,complex(Non_physical_real[i][j],Non_physical_imag[i][j]))\n",
    "        \n",
    "Physical_mat=np.reshape(Physical_mat, (physical_real.shape[0],physical_real.shape[1]))    \n",
    "NonPhysical_mat=np.reshape(NonPhysical_mat, (physical_real.shape[0],physical_real.shape[1]))\n",
    "\n",
    "print(Physical_mat.shape, NonPhysical_mat.shape)\n",
    "\n"
   ]
  },
  {
   "cell_type": "code",
   "execution_count": 17,
   "metadata": {},
   "outputs": [
    {
     "name": "stdout",
     "output_type": "stream",
     "text": [
      "[0.37945028+0.j         0.12406369+0.11318075j 0.05829738+0.1547659j  ...\n",
      " 0.12998374+0.00709414j 0.15763054-0.00720684j 0.23675646+0.j        ]\n",
      "(4000,)\n"
     ]
    }
   ],
   "source": [
    "print(Physical_mat)\n",
    "print(Physical_mat.shape)"
   ]
  }
 ],
 "metadata": {
  "kernelspec": {
   "display_name": "base",
   "language": "python",
   "name": "python3"
  },
  "language_info": {
   "codemirror_mode": {
    "name": "ipython",
    "version": 3
   },
   "file_extension": ".py",
   "mimetype": "text/x-python",
   "name": "python",
   "nbconvert_exporter": "python",
   "pygments_lexer": "ipython3",
   "version": "3.10.9"
  },
  "orig_nbformat": 4
 },
 "nbformat": 4,
 "nbformat_minor": 2
}
