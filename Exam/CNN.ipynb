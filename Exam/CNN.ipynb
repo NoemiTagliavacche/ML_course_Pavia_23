{
 "cells": [
  {
   "cell_type": "code",
   "execution_count": 2,
   "metadata": {},
   "outputs": [],
   "source": [
    "import numpy as np\n",
    "import matplotlib.pyplot as plt\n",
    "import cmath"
   ]
  },
  {
   "cell_type": "code",
   "execution_count": 24,
   "metadata": {},
   "outputs": [
    {
     "name": "stdout",
     "output_type": "stream",
     "text": [
      "Dataset dimension (600, 17, 2)\n",
      "features size:  (600, 16, 2) , target size:  (600,)\n"
     ]
    }
   ],
   "source": [
    "#import data generated in MATLAB\n",
    "physical_real=np.loadtxt(r'/Users/noemitagliavacche/Documents/PhD/COURSES/MACHINE_LEARNING/Exam/MATLAB_dataset_creation/300_Physical_matrices_Dim=4_RealPart.txt')\n",
    "Non_physical_real=np.loadtxt(r'//Users/noemitagliavacche/Documents/PhD/COURSES/MACHINE_LEARNING/Exam/MATLAB_dataset_creation/300_Non_Physical_matrices_Dim=4_RealPart.txt')\n",
    "physical_imag=np.loadtxt(r'//Users/noemitagliavacche/Documents/PhD/COURSES/MACHINE_LEARNING/Exam/MATLAB_dataset_creation/300_Physical_matrices_Dim=4_ImagPart.txt')\n",
    "Non_physical_imag=np.loadtxt(r'//Users/noemitagliavacche/Documents/PhD/COURSES/MACHINE_LEARNING/Exam/MATLAB_dataset_creation/300_Non_Physical_matrices_Dim=4_ImagPart.txt')\n",
    "\n",
    "################ TO CREATE THE DATASET #############\n",
    "\n",
    "#Classifier: 0-> Physical matrix, 1-> Non physical matrix\n",
    "target_Physical=np.zeros((physical_real.shape[0],1),dtype=int)\n",
    "target_NonPhysical=np.ones((physical_real.shape[0],1),dtype=int)\n",
    "\n",
    "Physical_real=np.concatenate((physical_real,target_Physical), axis=1)\n",
    "Physical_imag=np.concatenate((physical_imag,target_Physical), axis=1)\n",
    "NonPhysical_real=np.concatenate((Non_physical_real,target_NonPhysical), axis=1)\n",
    "NonPhysical_imag=np.concatenate((Non_physical_imag,target_NonPhysical), axis=1)\n",
    "Physical_data=np.stack((Physical_real,Physical_imag),axis=2)\n",
    "NonPhysical_data=np.stack((NonPhysical_real,NonPhysical_imag),axis=2)\n",
    "#print(\"Physical data size:  \", Physical_data.shape, \", Non Physical data size: \", NonPhysical_data.shape)\n",
    "\n",
    "dataset=np.concatenate((Physical_data, NonPhysical_data), axis=0)\n",
    "print(\"Dataset dimension\", dataset.shape)\n",
    "\n",
    "features=dataset[:,:-1,:]\n",
    "target=dataset[:,-1,1]\n",
    "print(\"features size: \", features.shape, \", target size: \", target.shape)\n"
   ]
  },
  {
   "cell_type": "code",
   "execution_count": 25,
   "metadata": {},
   "outputs": [
    {
     "name": "stdout",
     "output_type": "stream",
     "text": [
      "X_train:  (402, 16, 2) , X_val:  (198, 16, 2) , Y_train:  (402,) , Y_val:  (198,)\n"
     ]
    }
   ],
   "source": [
    "from sklearn.model_selection import train_test_split\n",
    "X_train, X_val, Y_train, Y_val = train_test_split(features, target, test_size=0.33, shuffle=True)\n",
    "print(\"X_train: \",X_train.shape,\", X_val: \" ,X_val.shape, \", Y_train: \", Y_train.shape, \", Y_val: \",Y_val.shape)"
   ]
  },
  {
   "cell_type": "code",
   "execution_count": null,
   "metadata": {},
   "outputs": [],
   "source": [
    "# keras imports\n",
    "from tensorflow.keras.models import Model\n",
    "from tensorflow.keras.layers import Dense, Input, Conv1D, AveragePooling1D, Dropout, Flatten\n",
    "from tensorflow.keras.utils import plot_model\n",
    "from tensorflow.keras import backend as K\n",
    "from tensorflow.keras import metrics\n",
    "from tensorflow.keras.callbacks import EarlyStopping, ReduceLROnPlateau, TerminateOnNaN"
   ]
  },
  {
   "cell_type": "code",
   "execution_count": null,
   "metadata": {},
   "outputs": [],
   "source": [
    "featureArrayLength = (X_train.shape[1],X_train.shape[2])\n",
    "dropoutRate = 0.25"
   ]
  },
  {
   "cell_type": "code",
   "execution_count": null,
   "metadata": {},
   "outputs": [],
   "source": [
    "####\n",
    "inputList = Input(shape=(featureArrayLength))\n",
    "x = Conv1D(20, kernel_size=3, data_format=\"channels_last\", strides=1, padding=\"valid\", activation='relu')(inputList)\n",
    "x = AveragePooling1D(pool_size=3)(x)\n",
    "#\n",
    "x = Conv1D(40, kernel_size=3, data_format=\"channels_last\", strides=1, padding=\"valid\", activation='relu')(x)\n",
    "x = AveragePooling1D(pool_size=3)(x)\n",
    "#\n",
    "x = Conv1D(60, kernel_size=2, data_format=\"channels_last\", strides=1, padding=\"valid\", activation='relu')(x)\n",
    "x = AveragePooling1D(pool_size=9)(x)\n",
    "#\n",
    "x = Flatten()(x)\n",
    "x = Dense(20, activation='relu')(x)\n",
    "x = Dropout(dropoutRate)(x)\n",
    "x = Dense(10, activation='relu')(x)\n",
    "x = Dropout(dropoutRate)(x)\n",
    "output = Dense(5, activation='softmax')(x)\n",
    "####\n",
    "model = Model(inputs=inputList, outputs=output)"
   ]
  },
  {
   "cell_type": "code",
   "execution_count": null,
   "metadata": {},
   "outputs": [],
   "source": [
    "model.compile(loss='categorical_crossentropy', optimizer='adam')\n",
    "model.summary()"
   ]
  },
  {
   "cell_type": "code",
   "execution_count": null,
   "metadata": {},
   "outputs": [],
   "source": [
    "batch_size = 128\n",
    "n_epochs = 200\n",
    "\n",
    "# train \n",
    "history = model.fit(X_train, Y_train, epochs=n_epochs, batch_size=batch_size, verbose = 2,\n",
    "                validation_data=(X_val, Y_val),\n",
    "                callbacks = [\n",
    "                EarlyStopping(monitor='val_loss', patience=10, verbose=1),\n",
    "                ReduceLROnPlateau(monitor='val_loss', factor=0.1, patience=2, verbose=1),\n",
    "                TerminateOnNaN()])"
   ]
  },
  {
   "cell_type": "code",
   "execution_count": null,
   "metadata": {},
   "outputs": [],
   "source": [
    "# plot training history\n",
    "plt.plot(history.history['loss'])\n",
    "plt.plot(history.history['val_loss'])\n",
    "plt.yscale('log')\n",
    "plt.title('Training History')\n",
    "plt.ylabel('loss')\n",
    "plt.xlabel('epoch')\n",
    "plt.legend(['training', 'validation'], loc='upper right')\n",
    "plt.show()"
   ]
  }
 ],
 "metadata": {
  "kernelspec": {
   "display_name": "base",
   "language": "python",
   "name": "python3"
  },
  "language_info": {
   "codemirror_mode": {
    "name": "ipython",
    "version": 3
   },
   "file_extension": ".py",
   "mimetype": "text/x-python",
   "name": "python",
   "nbconvert_exporter": "python",
   "pygments_lexer": "ipython3",
   "version": "3.10.9"
  },
  "orig_nbformat": 4
 },
 "nbformat": 4,
 "nbformat_minor": 2
}
